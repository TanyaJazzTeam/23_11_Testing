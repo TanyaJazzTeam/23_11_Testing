{
  "cells": [
    {
      "cell_type": "markdown",
      "metadata": {
      },
      "source": [
        "# ブロック"
      ]
    },
    {
      "cell_type": "markdown",
      "metadata": {
      },
      "source": [
        "## ブロック\n",
        "\n",
        "<!-- ::: q-block -->\n",
        "\n",
        "### ブロックタイトル\n",
        "\n",
        "Lorem ipsum dolorは、amet、consectetur adipiscingelitに座っています。 Sed egestas erat tellus、ac molstie eros convallisvitae。 Ut ac enim vitae diam efficiturdignissim。\n",
        "\n",
        "Nullam pharetra imperdiet tellus、ac tristique turpis facilisissed。\n",
        "\n",
        "<!-- ::: -->\n"
      ]
    },
    {
      "cell_type": "markdown",
      "metadata": {
      },
      "source": [
        " {nbsp}\n",
        "\n",
        "## エクササイズパネル\n",
        "\n",
        "<!-- ::: q-block.exercise -->\n",
        "\n",
        "### エクササイズタイトル\n",
        "\n",
        "Lorem ipsum dolorは、amet、consectetur adipiscingelitに座っています。 Duis consectetur rhoncus felis、aliquam arcu finibuseget。\n",
        "\n",
        "bibendum nibh ut dolor ultricessagittisで。 Sed imperdiet、tellus vitae mattis convallis、arcu eros suscipit justo、consequat enim lectus vellacus。\n",
        "\n",
        "<!-- ::: -->\n"
      ]
    },
    {
      "cell_type": "markdown",
      "metadata": {
      },
      "source": [
        " {nbsp}\n",
        "\n",
        "## リマインダー\n",
        "\n",
        "<!-- ::: q-block.reminder -->\n",
        "\n",
        "### リマインダータイトル\n",
        "\n",
        "<details><summary>詳細1</summary> Lorem ipsum dolorは、amet、consectetur adipiscingelitに座っています。 Aenean blandit pharetra sem utvarius。</details>\n",
        "\n",
        "```\n",
        "Proin non sem ipsum. Duis blandit est non tellus porta tincidunt. Sed nec neque sagittis, tristique dui a, tempus dolor.\n",
        "```\n",
        "\n",
        "\n",
        "\n",
        "\n",
        "<details><summary>詳細2</summary> Lorem ipsum dolorは、amet、consectetur adipiscingelitに座っています。 Tortor noniaculisのDoneclacinia。 Suspendisse hendrerit nisl vitae nisi fermentum、quis efficitur turpistempus。</details>\n",
        "\n",
        "```\n",
        "Etiam blandit blandit ex a hendrerit. Suspendisse ornare, nulla sed auctor commodo, enim tortor vehicula erat, at consectetur elit eros nec felis.\n",
        "```\n",
        "\n",
        "\n",
        "\n",
        "\n",
        "<!-- ::: -->\n"
      ]
    },
    {
      "cell_type": "markdown",
      "metadata": {
      },
      "source": [
        " {nbsp}\n",
        "\n",
        "## タブ\n",
        "\n",
        "<!-- ::: q-block.tabs -->\n",
        "\n",
        "### タブタイトル\n",
        "\n",
        "<!-- ::: tab -->\n",
        "\n",
        "### タブ1\n",
        "\n",
        "Lorem ipsum dolorは、amet、consectetur adipiscingelitに座っています。 Donec commodo nunc eu faucibusdictum。\n",
        "\n",
        "Etiam dignissim dignissim tortor、ut tincidunt ante ullamcorperid。 Morbi ante nisi、ultricesのpretium、laciniavitaelorem。 Ut ac leoante。\n",
        "\n",
        "<!-- ::: tab -->\n",
        "\n",
        "### タブ2\n",
        "\n",
        "Lorem ipsum dolorは、amet、consectetur adipiscingelitに座っています。 Phasellus varius velit velit、sed malesuada ligula ullamcorperquis。 Nam volutpat ante vel justo egestas、vitae dictum lectuscursus。 Suspendisse ac urnajusto。 Orci varius natoque penatibus et magnis dis parturient montes、nascetur ridiculusmus。\n",
        "\n",
        "<!-- ::: -->\n",
        "\n",
        "<!-- ::: -->\n"
      ]
    },
    {
      "cell_type": "markdown",
      "metadata": {
      },
      "source": [
        " {nbsp}\n",
        "\n",
        "## コードブロック\n"
      ]
    },
    {
      "cell_type": "code",
      "execution_count": 1,
      "metadata": {
      },
      "outputs": [
        {
          "data": {
            "text/plain": [
              "2"
            ]
          },
          "execution_count": 1,
          "metadata": {
          },
          "output_type": "execute_result"
        }
      ],
      "source": [
        "1 + 1"
      ]
    }
  ],
  "metadata": {
    "kernelspec": {
      "display_name": "Python 3",
      "language": "python",
      "name": "python3"
    },
    "language_info": {
      "codemirror_mode": {
        "name": "ipython",
        "version": 3
      },
      "file_extension": ".py",
      "mimetype": "text/x-python",
      "name": "python",
      "nbconvert_exporter": "python",
      "pygments_lexer": "ipython3",
      "version": "3.7.7"
    }
  },
  "nbformat": 4,
  "nbformat_minor": 4
}
